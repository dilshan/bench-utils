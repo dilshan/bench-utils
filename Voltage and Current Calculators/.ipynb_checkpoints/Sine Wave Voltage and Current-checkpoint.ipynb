{
 "cells": [
  {
   "cell_type": "markdown",
   "metadata": {},
   "source": [
    "## RMS voltage calculators\n",
    "\n",
    "![sine-wave](sinewave.svg)"
   ]
  },
  {
   "cell_type": "markdown",
   "metadata": {},
   "source": [
    "### Effective RMS\n",
    "\n",
    "\\begin{equation*}\n",
    "V_{RMS}= \\frac{1}{\\sqrt{2}}V_P\n",
    "\\end{equation*}"
   ]
  },
  {
   "cell_type": "code",
   "execution_count": 4,
   "metadata": {},
   "outputs": [
    {
     "name": "stdout",
     "output_type": "stream",
     "text": [
      "7.071067811865475V\n"
     ]
    }
   ],
   "source": [
    "import math\n",
    "\n",
    "Vp = 10\n",
    "\n",
    "print(str(Vp * (1/math.sqrt(2))) + \"V\")"
   ]
  },
  {
   "cell_type": "markdown",
   "metadata": {},
   "source": [
    "\\begin{equation*}\n",
    "V_{RMS}= \\frac{1}{2\\sqrt{2}}V_{PP}\n",
    "\\end{equation*}"
   ]
  },
  {
   "cell_type": "code",
   "execution_count": 7,
   "metadata": {},
   "outputs": [
    {
     "name": "stdout",
     "output_type": "stream",
     "text": [
      "8.131727983645296V\n"
     ]
    }
   ],
   "source": [
    "import math\n",
    "\n",
    "Vpp = 23\n",
    "\n",
    "print(str(Vpp * (1/(2 * math.sqrt(2)))) + \"V\")"
   ]
  },
  {
   "cell_type": "code",
   "execution_count": null,
   "metadata": {},
   "outputs": [],
   "source": []
  }
 ],
 "metadata": {
  "kernelspec": {
   "display_name": "Python 3",
   "language": "python",
   "name": "python3"
  },
  "language_info": {
   "codemirror_mode": {
    "name": "ipython",
    "version": 3
   },
   "file_extension": ".py",
   "mimetype": "text/x-python",
   "name": "python",
   "nbconvert_exporter": "python",
   "pygments_lexer": "ipython3",
   "version": "3.6.7"
  }
 },
 "nbformat": 4,
 "nbformat_minor": 2
}
