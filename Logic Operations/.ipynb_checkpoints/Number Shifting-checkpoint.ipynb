{
 "cells": [
  {
   "cell_type": "markdown",
   "metadata": {},
   "source": [
    "# Contents\n",
    "\n",
    "* [Bitwise shift left and shift right operations](#Bitwise-shift-left-and-shift-right-operations)\n",
    "   * [Left shift](#Left-shift)\n",
    "   * [Right shift](#Right-shift)"
   ]
  },
  {
   "cell_type": "markdown",
   "metadata": {},
   "source": [
    "## Bitwise shift left and shift right operations\n",
    "\n",
    "### Left shift     \n",
    "     \n",
    "     n << l"
   ]
  },
  {
   "cell_type": "code",
   "execution_count": 1,
   "metadata": {},
   "outputs": [
    {
     "name": "stdout",
     "output_type": "stream",
     "text": [
      "BASE 2 : 1000000\n",
      "BASE 10 : 64\n",
      "BASE 16 : 0x0040\n"
     ]
    }
   ],
   "source": [
    "import sys\n",
    "import os\n",
    "\n",
    "module_path = os.path.abspath(os.path.join('..'))\n",
    "if module_path not in sys.path:\n",
    "    sys.path.append(module_path)\n",
    "\n",
    "import common_util\n",
    "\n",
    "n = 0x10\n",
    "l = 2\n",
    "\n",
    "result = n << l\n",
    "\n",
    "common_util.display_numeric_result(result)\n"
   ]
  },
  {
   "cell_type": "markdown",
   "metadata": {},
   "source": [
    "### Right shift     \n",
    "     \n",
    "     n >> l"
   ]
  },
  {
   "cell_type": "code",
   "execution_count": 2,
   "metadata": {},
   "outputs": [
    {
     "name": "stdout",
     "output_type": "stream",
     "text": [
      "BASE 2 : 100000\n",
      "BASE 10 : 32\n",
      "BASE 16 : 0x0020\n"
     ]
    }
   ],
   "source": [
    "import sys\n",
    "import os\n",
    "\n",
    "module_path = os.path.abspath(os.path.join('..'))\n",
    "if module_path not in sys.path:\n",
    "    sys.path.append(module_path)\n",
    "\n",
    "import common_util\n",
    "\n",
    "n = 0x80\n",
    "l = 2\n",
    "\n",
    "result = n >> l\n",
    "\n",
    "common_util.display_numeric_result(result)"
   ]
  },
  {
   "cell_type": "code",
   "execution_count": null,
   "metadata": {},
   "outputs": [],
   "source": []
  }
 ],
 "metadata": {
  "kernelspec": {
   "display_name": "Python 3",
   "language": "python",
   "name": "python3"
  },
  "language_info": {
   "codemirror_mode": {
    "name": "ipython",
    "version": 3
   },
   "file_extension": ".py",
   "mimetype": "text/x-python",
   "name": "python",
   "nbconvert_exporter": "python",
   "pygments_lexer": "ipython3",
   "version": "3.6.7"
  }
 },
 "nbformat": 4,
 "nbformat_minor": 2
}
