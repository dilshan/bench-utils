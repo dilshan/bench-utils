{
 "cells": [
  {
   "cell_type": "markdown",
   "metadata": {},
   "source": [
    "## Basic voltage divider\n",
    "\n",
    "![voltage-divider](resistor-div.jpg)"
   ]
  },
  {
   "cell_type": "markdown",
   "metadata": {},
   "source": [
    "### Output voltage calculator\n",
    "\n",
    "     basic_voltage_div(VCC, R1, R2)\n",
    "\n",
    "- **VCC**: Supply voltage as number.\n",
    "- **R1**: Value of the resistor as number or string (*e.g: 1.2K*)\n",
    "- **R2**: Value of the resistor as number or string (*e.g: 1.2K*)"
   ]
  },
  {
   "cell_type": "code",
   "execution_count": 2,
   "metadata": {},
   "outputs": [
    {
     "name": "stdout",
     "output_type": "stream",
     "text": [
      "3.6V\n"
     ]
    }
   ],
   "source": [
    "import voltage_div\n",
    "\n",
    "voltage_div.basic_voltage_div(6, \"1K\", \"1.5K\")"
   ]
  },
  {
   "cell_type": "markdown",
   "metadata": {},
   "source": [
    "### Resistor calculator\n",
    "\n",
    "     find_voltage_div_resistors(VCC, OUT)\n",
    "     \n",
    "- **VCC**: Supply voltage as number.\n",
    "- **OUT**: Output voltage as number. "
   ]
  },
  {
   "cell_type": "code",
   "execution_count": 1,
   "metadata": {},
   "outputs": [
    {
     "data": {
      "text/html": [
       "<table>\n",
       "<thead>\n",
       "<tr><th>R1   </th><th>R2   </th></tr>\n",
       "</thead>\n",
       "<tbody>\n",
       "<tr><td>2.4Ω </td><td>9.1Ω </td></tr>\n",
       "<tr><td>24Ω  </td><td>91Ω  </td></tr>\n",
       "<tr><td>240Ω </td><td>910Ω </td></tr>\n",
       "<tr><td>2.4KΩ</td><td>9.1KΩ</td></tr>\n",
       "<tr><td>24KΩ </td><td>91KΩ </td></tr>\n",
       "<tr><td>240KΩ</td><td>910KΩ</td></tr>\n",
       "<tr><td>2.4MΩ</td><td>9.1MΩ</td></tr>\n",
       "</tbody>\n",
       "</table>"
      ],
      "text/plain": [
       "<IPython.core.display.HTML object>"
      ]
     },
     "metadata": {},
     "output_type": "display_data"
    }
   ],
   "source": [
    "import voltage_div\n",
    "\n",
    "voltage_div.find_voltage_div_resistors(6, 4.75)"
   ]
  },
  {
   "cell_type": "code",
   "execution_count": null,
   "metadata": {},
   "outputs": [],
   "source": []
  }
 ],
 "metadata": {
  "kernelspec": {
   "display_name": "Python 3",
   "language": "python",
   "name": "python3"
  },
  "language_info": {
   "codemirror_mode": {
    "name": "ipython",
    "version": 3
   },
   "file_extension": ".py",
   "mimetype": "text/x-python",
   "name": "python",
   "nbconvert_exporter": "python",
   "pygments_lexer": "ipython3",
   "version": "3.6.7"
  }
 },
 "nbformat": 4,
 "nbformat_minor": 2
}
