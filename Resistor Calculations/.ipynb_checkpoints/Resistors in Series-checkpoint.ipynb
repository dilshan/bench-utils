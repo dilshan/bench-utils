{
 "cells": [
  {
   "cell_type": "markdown",
   "metadata": {},
   "source": [
    "## Total resistance of resistors in series\n",
    "\n",
    "Calculate the total resistance of resistors in series.\n",
    "\n",
    "![resistor-parallel](resistor-series.jpg)"
   ]
  },
  {
   "cell_type": "code",
   "execution_count": 3,
   "metadata": {},
   "outputs": [
    {
     "name": "stdout",
     "output_type": "stream",
     "text": [
      "Resistor 1: 10k\n",
      "Resistor 2: 100\n",
      "Resistor 3: 1.2k\n",
      "Resistor 4: \n",
      "Total resistance = 11.3KΩ\n"
     ]
    }
   ],
   "source": [
    "import sys\n",
    "import os\n",
    "\n",
    "module_path = os.path.abspath(os.path.join('..'))\n",
    "if module_path not in sys.path:\n",
    "    sys.path.append(module_path)\n",
    "    \n",
    "import common_util\n",
    "\n",
    "resistor_collection = []\n",
    "resistor_val = ''\n",
    "resistor_pos = 1\n",
    "total_resistance = 0\n",
    "\n",
    "while True:\n",
    "    resistor_val = input(\"Resistor \" + str(resistor_pos) + \": \")\n",
    "    # Check for empty string to break the input loop.\n",
    "    if resistor_val.strip() == '':\n",
    "        break\n",
    "    else:\n",
    "        resistor_collection.append(resistor_val)\n",
    "    resistor_pos = resistor_pos + 1\n",
    "\n",
    "if len(resistor_collection) > 0:\n",
    "    for resistor in resistor_collection:\n",
    "        if common_util.is_float_number(resistor):\n",
    "            resistor_val = float(resistor)\n",
    "        else:\n",
    "            resistor_val = common_util.decode_resistor_value(resistor)\n",
    "\n",
    "        total_resistance = total_resistance + resistor_val\n",
    "\n",
    "    print(\"Total resistance = \" + common_util.format_resistor_value(total_resistance))"
   ]
  },
  {
   "cell_type": "code",
   "execution_count": null,
   "metadata": {},
   "outputs": [],
   "source": []
  }
 ],
 "metadata": {
  "kernelspec": {
   "display_name": "Python 3",
   "language": "python",
   "name": "python3"
  },
  "language_info": {
   "codemirror_mode": {
    "name": "ipython",
    "version": 3
   },
   "file_extension": ".py",
   "mimetype": "text/x-python",
   "name": "python",
   "nbconvert_exporter": "python",
   "pygments_lexer": "ipython3",
   "version": "3.6.7"
  }
 },
 "nbformat": 4,
 "nbformat_minor": 2
}
