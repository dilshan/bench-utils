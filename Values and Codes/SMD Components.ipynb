{
 "cells": [
  {
   "cell_type": "markdown",
   "metadata": {},
   "source": [
    "# Contents\n",
    "\n",
    "* [SMD resistor codes](#SMD-resistor-codes)\n",
    "   * [3-digit code](#3-digit-code)\n",
    "   * [4-digit code](#4-digit-code)\n",
    "* [Power rating and sizes](#Power-rating-and-sizes)"
   ]
  },
  {
   "cell_type": "markdown",
   "metadata": {},
   "source": [
    "## SMD resistor codes"
   ]
  },
  {
   "cell_type": "markdown",
   "metadata": {},
   "source": [
    "Calculate the value of an SMD resistor using specified code. This script support 3, 4 digit SMD resistor codes and [EIA-96](http://www.resistorguide.com/resistor-smd-code/) coding system.\n",
    "\n",
    "     smd_resistor(CODE)\n",
    "     \n",
    "- **CODE**: SMD resistor code."
   ]
  },
  {
   "cell_type": "code",
   "execution_count": 1,
   "metadata": {},
   "outputs": [
    {
     "name": "stdout",
     "output_type": "stream",
     "text": [
      "1.3KΩ\n"
     ]
    }
   ],
   "source": [
    "import bu_smd\n",
    "\n",
    "bu_smd.smd_resistor(\"12B\")"
   ]
  },
  {
   "cell_type": "markdown",
   "metadata": {},
   "source": [
    "### 3-digit code\n",
    "\n",
    "Standard SMD resistor code\n",
    "\n",
    "\\begin{equation*}\n",
    "560 = 56 \\times 10^0 = 56 \\times 1 \\Omega = 56\\Omega\n",
    "\\end{equation*}"
   ]
  },
  {
   "cell_type": "markdown",
   "metadata": {},
   "source": [
    "### 4-digit code\n",
    "\n",
    "Precision SMD resistor code\n",
    "\n",
    "\\begin{equation*}\n",
    "8200 = 820 \\times 10^0 = 820 \\times 1 \\Omega = 820\\Omega\n",
    "\\end{equation*}"
   ]
  },
  {
   "cell_type": "markdown",
   "metadata": {},
   "source": [
    "## Power rating and sizes\n",
    "\n",
    "| Package | Size (LxW)     | Power |\n",
    "|---------|----------------|-------|\n",
    "| 0201    | 0.6mm x 0.3mm  | 1/20W |\n",
    "| 0402    | 1.0mm x 0.5mm  | 1/16W |\n",
    "| 0603    | 1.6mm x 0.8mm  | 1/16W |\n",
    "| 0805    | 2.0mm x 1.25mm | 1/10W |\n",
    "| 1206    | 3.2mm x 1.6mm  | 1/8W  |\n",
    "| 1210    | 3.2mm x 2.5mm  | 1/4W  |\n",
    "| 1812    | 4.5mm x 3.2mm  | 1/3W  |\n",
    "| 2010    | 5.0mm x 2.5mm  | 1/2W  |\n",
    "| 2512    | 6.35mm x 3.2mm | 1W    |"
   ]
  },
  {
   "cell_type": "code",
   "execution_count": null,
   "metadata": {},
   "outputs": [],
   "source": []
  }
 ],
 "metadata": {
  "kernelspec": {
   "display_name": "Python 3",
   "language": "python",
   "name": "python3"
  },
  "language_info": {
   "codemirror_mode": {
    "name": "ipython",
    "version": 3
   },
   "file_extension": ".py",
   "mimetype": "text/x-python",
   "name": "python",
   "nbconvert_exporter": "python",
   "pygments_lexer": "ipython3",
   "version": "3.6.7"
  }
 },
 "nbformat": 4,
 "nbformat_minor": 2
}
