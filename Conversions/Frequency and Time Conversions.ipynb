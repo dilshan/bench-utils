{
 "cells": [
  {
   "cell_type": "markdown",
   "metadata": {},
   "source": [
    "## Period to Frequency Conversion\n",
    "\n",
    "Convert specified interval (period) to frequency.\n",
    "\n",
    "     to_frequency(INTERVAL)\n",
    "     \n",
    "- **INTERVAL**: Time with unit. Accepted units are *s*, *ms*, *us*, *ns*, *ps*. Default unit is s (*seconds*)."
   ]
  },
  {
   "cell_type": "code",
   "execution_count": 5,
   "metadata": {},
   "outputs": [
    {
     "name": "stdout",
     "output_type": "stream",
     "text": [
      "100000Hz\n",
      "100KHz\n",
      "0.1MHz\n",
      "0.0001GHz\n"
     ]
    }
   ],
   "source": [
    "import bu_convert\n",
    "\n",
    "bu_convert.to_frequency(\"10us\")"
   ]
  },
  {
   "cell_type": "markdown",
   "metadata": {},
   "source": [
    "## Frequency to Period Conversion\n",
    "\n",
    "Convert specified frequency to period.\n",
    "\n",
    "     to_period(FREQ)\n",
    "     \n",
    "- **FREQ**: Frequency with unit. Accepted units are *hz*, *khz*, *ghz*. Default unit is Hz."
   ]
  },
  {
   "cell_type": "code",
   "execution_count": 6,
   "metadata": {},
   "outputs": [
    {
     "name": "stdout",
     "output_type": "stream",
     "text": [
      "0.00001s\n",
      "0.01ms\n",
      "10us\n",
      "10000ns\n",
      "10000000ps\n"
     ]
    }
   ],
   "source": [
    "import bu_convert\n",
    "\n",
    "bu_convert.to_period(\"100khz\")"
   ]
  },
  {
   "cell_type": "code",
   "execution_count": null,
   "metadata": {},
   "outputs": [],
   "source": []
  }
 ],
 "metadata": {
  "kernelspec": {
   "display_name": "Python 3",
   "language": "python",
   "name": "python3"
  },
  "language_info": {
   "codemirror_mode": {
    "name": "ipython",
    "version": 3
   },
   "file_extension": ".py",
   "mimetype": "text/x-python",
   "name": "python",
   "nbconvert_exporter": "python",
   "pygments_lexer": "ipython3",
   "version": "3.6.7"
  }
 },
 "nbformat": 4,
 "nbformat_minor": 2
}
