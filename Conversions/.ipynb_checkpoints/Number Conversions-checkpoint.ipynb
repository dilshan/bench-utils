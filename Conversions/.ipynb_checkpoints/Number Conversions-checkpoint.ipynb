{
 "cells": [
  {
   "cell_type": "markdown",
   "metadata": {},
   "source": [
    "# Contents\n",
    "\n",
    "* [Binary number conversion](#Binary-number-conversion)\n",
    "* [Hexadecimal number conversion](#Hexadecimal-number-conversion)\n",
    "* [BCD conversions](#BCD-conversions)\n",
    "   * [Hex to BCD conversion](#Hex-to-BCD-conversion)\n",
    "   * [Decimal to BCD conversion](#Decimal-to-BCD-conversion)"
   ]
  },
  {
   "cell_type": "markdown",
   "metadata": {},
   "source": [
    "## Binary number conversion"
   ]
  },
  {
   "cell_type": "markdown",
   "metadata": {},
   "source": [
    "Convert specified decimal number to binary format.\n",
    "\n",
    "     to_binary(NUMBER, LENGTH=8)\n",
    "     \n",
    "- **NUMBER**: Decimal number to convert into binary format.\n",
    "- **LENGTH**: Length of the binary number. Default and minimum length is 8."
   ]
  },
  {
   "cell_type": "code",
   "execution_count": 1,
   "metadata": {
    "scrolled": true
   },
   "outputs": [
    {
     "name": "stdout",
     "output_type": "stream",
     "text": [
      "10101010\n"
     ]
    }
   ],
   "source": [
    "import bu_convert\n",
    "\n",
    "bu_convert.to_binary(170, 8)"
   ]
  },
  {
   "cell_type": "markdown",
   "metadata": {},
   "source": [
    "## Hexadecimal number conversion"
   ]
  },
  {
   "cell_type": "markdown",
   "metadata": {},
   "source": [
    "Convert specified decimal number to hexadecimal format.\n",
    "\n",
    "\n",
    "     to_hex(NUMBER, LENGTH=2)\n",
    "     \n",
    "- **NUMBER**: Decimal number to convert into hexadecimal format.\n",
    "- **LENGTH**: Length of the hexadecimal number. Default and minimum length is 2."
   ]
  },
  {
   "cell_type": "code",
   "execution_count": 2,
   "metadata": {
    "scrolled": true
   },
   "outputs": [
    {
     "name": "stdout",
     "output_type": "stream",
     "text": [
      "0x4E\n"
     ]
    }
   ],
   "source": [
    "import bu_convert\n",
    "\n",
    "bu_convert.to_hex(78, 2)"
   ]
  },
  {
   "cell_type": "markdown",
   "metadata": {},
   "source": [
    "## BCD conversions\n",
    "\n",
    "### Hex to BCD conversion\n",
    "\n",
    "Convert specified hexadecimal number to BCD.\n",
    "\n",
    "     hex_to_bcd(NUMBER)\n",
    "     \n",
    "- **NUMBER**: Number in hexadecimal format."
   ]
  },
  {
   "cell_type": "code",
   "execution_count": 3,
   "metadata": {
    "scrolled": true
   },
   "outputs": [
    {
     "name": "stdout",
     "output_type": "stream",
     "text": [
      "00101001\n"
     ]
    }
   ],
   "source": [
    "import bu_convert\n",
    "\n",
    "bu_convert.hex_to_bcd(\"0x1D\")"
   ]
  },
  {
   "cell_type": "markdown",
   "metadata": {},
   "source": [
    "### Decimal to BCD conversion\n",
    "\n",
    "Convert specified decimal number to BCD.\n",
    "\n",
    "     int_to_bcd(NUMBER)\n",
    "     \n",
    "- **NUMBER**: Number to convert into BCD."
   ]
  },
  {
   "cell_type": "code",
   "execution_count": 4,
   "metadata": {},
   "outputs": [
    {
     "name": "stdout",
     "output_type": "stream",
     "text": [
      "01000101\n"
     ]
    }
   ],
   "source": [
    "import bu_convert\n",
    "\n",
    "bu_convert.int_to_bcd(45)"
   ]
  },
  {
   "cell_type": "code",
   "execution_count": null,
   "metadata": {},
   "outputs": [],
   "source": []
  }
 ],
 "metadata": {
  "kernelspec": {
   "display_name": "Python 3",
   "language": "python",
   "name": "python3"
  },
  "language_info": {
   "codemirror_mode": {
    "name": "ipython",
    "version": 3
   },
   "file_extension": ".py",
   "mimetype": "text/x-python",
   "name": "python",
   "nbconvert_exporter": "python",
   "pygments_lexer": "ipython3",
   "version": "3.6.7"
  }
 },
 "nbformat": 4,
 "nbformat_minor": 2
}
