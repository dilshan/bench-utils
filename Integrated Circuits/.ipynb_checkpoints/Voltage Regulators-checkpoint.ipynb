{
 "cells": [
  {
   "cell_type": "markdown",
   "metadata": {},
   "source": [
    "# Contents\n",
    "\n",
    "* [LM317 Voltage regulator](#LM317-Voltage-regulator)\n",
    "   * [LM317 Basic calculator](#LM317-Basic-calculator)\n",
    "* [LM2596-ADJ Voltage regulator](#LM2596-ADJ-Voltage-regulator)\n",
    "   * [LM2596 Basic calculator](#LM2596-Basic-calculator)"
   ]
  },
  {
   "cell_type": "markdown",
   "metadata": {},
   "source": [
    "## LM317 Voltage regulator\n",
    "\n",
    "![lm317](lm317.jpg)\n",
    "\n",
    "Recommended value for R1 is 240Ω.\n",
    "\n",
    "\\begin{equation*}\n",
    "OUT = 1.25 \\times (1 + \\frac{R2}{R1})\n",
    "\\end{equation*}"
   ]
  },
  {
   "cell_type": "markdown",
   "metadata": {},
   "source": [
    "### LM317 Basic calculator\n",
    "\n",
    "     lm317_vout(R1, R2)\n",
    "     \n",
    "- **R1**: Value of the R1 resistor between 100Ω to 1000Ω. Recommended value for R1 is 240Ω.\n",
    "- **R2**: Value of the R2 resistor."
   ]
  },
  {
   "cell_type": "code",
   "execution_count": 1,
   "metadata": {},
   "outputs": [
    {
     "name": "stdout",
     "output_type": "stream",
     "text": [
      "7.5V\n"
     ]
    }
   ],
   "source": [
    "import vreg\n",
    "\n",
    "vreg.lm317_vout(\"240\", \"1.2K\")"
   ]
  },
  {
   "cell_type": "markdown",
   "metadata": {},
   "source": [
    "## LM2596-ADJ Voltage regulator\n",
    "\n",
    "![lm2596.jpg](lm2596.jpg)\n",
    "\n",
    "Recommneded value for R1 is between 1K to 5K.\n",
    "\n",
    "\\begin{equation*}\n",
    "OUT = 1.23 \\times (1 + \\frac{R2}{R1})\n",
    "\\end{equation*}"
   ]
  },
  {
   "cell_type": "markdown",
   "metadata": {},
   "source": [
    "### LM2596 Basic calculator\n",
    "\n",
    "     lm2596_vout(R1, R2)\n",
    "     \n",
    "- **R1**: Value of the R1 resistor between 1K to 5K.\n",
    "- **R2**: Value of the R2 resistor."
   ]
  },
  {
   "cell_type": "code",
   "execution_count": 2,
   "metadata": {},
   "outputs": [
    {
     "name": "stdout",
     "output_type": "stream",
     "text": [
      "12.423V\n"
     ]
    }
   ],
   "source": [
    "import vreg\n",
    "\n",
    "vreg.lm2596_vout(\"1K\", \"9.1K\")"
   ]
  },
  {
   "cell_type": "code",
   "execution_count": null,
   "metadata": {},
   "outputs": [],
   "source": []
  }
 ],
 "metadata": {
  "kernelspec": {
   "display_name": "Python 3",
   "language": "python",
   "name": "python3"
  },
  "language_info": {
   "codemirror_mode": {
    "name": "ipython",
    "version": 3
   },
   "file_extension": ".py",
   "mimetype": "text/x-python",
   "name": "python",
   "nbconvert_exporter": "python",
   "pygments_lexer": "ipython3",
   "version": "3.6.7"
  }
 },
 "nbformat": 4,
 "nbformat_minor": 2
}
