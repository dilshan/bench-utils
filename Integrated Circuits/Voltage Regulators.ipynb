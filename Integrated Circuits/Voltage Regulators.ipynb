{
 "cells": [
  {
   "cell_type": "markdown",
   "metadata": {},
   "source": [
    "# Contents\n",
    "\n",
    "* [LM317 Voltage regulator](#LM317-Voltage-regulator)\n",
    "   * [Basic calculator](#Basic-calculator)"
   ]
  },
  {
   "cell_type": "markdown",
   "metadata": {},
   "source": [
    "## LM317 Voltage regulator\n",
    "\n",
    "![lm317](lm317.jpg)\n",
    "\n",
    "Recommended value for R1 is 240Ω.\n",
    "\n",
    "\\begin{equation*}\n",
    "OUT = 1.25 \\times (1 + \\frac{R2}{R1})\n",
    "\\end{equation*}"
   ]
  },
  {
   "cell_type": "markdown",
   "metadata": {},
   "source": [
    "### Basic calculator\n",
    "\n",
    "     lm317_vout(R1, R2)\n",
    "     \n",
    "- **R1**: Value of the R1 resistor between 100Ω to 1000Ω. Recommended value for R1 is 240Ω.\n",
    "- **R2**: Value of the R2 resistor."
   ]
  },
  {
   "cell_type": "code",
   "execution_count": 6,
   "metadata": {},
   "outputs": [
    {
     "name": "stdout",
     "output_type": "stream",
     "text": [
      "7.5V\n"
     ]
    }
   ],
   "source": [
    "import vreg\n",
    "\n",
    "vreg.lm317_vout(\"240\", \"1.2K\")"
   ]
  }
 ],
 "metadata": {
  "kernelspec": {
   "display_name": "Python 3",
   "language": "python",
   "name": "python3"
  },
  "language_info": {
   "codemirror_mode": {
    "name": "ipython",
    "version": 3
   },
   "file_extension": ".py",
   "mimetype": "text/x-python",
   "name": "python",
   "nbconvert_exporter": "python",
   "pygments_lexer": "ipython3",
   "version": "3.6.7"
  }
 },
 "nbformat": 4,
 "nbformat_minor": 2
}
